{
 "cells": [
  {
   "cell_type": "code",
   "execution_count": 4,
   "metadata": {},
   "outputs": [],
   "source": [
    "import keyring\n",
    "from tastytrade import Session, Account\n",
    "\n",
    "username = keyring.get_password(\"tastytrade\", \"username\")\n",
    "password = keyring.get_password(\"tastytrade\", \"password\")\n",
    "account_id = keyring.get_password(\"tastytrade\", \"account_id\")\n",
    "\n",
    "if not username or not password:\n",
    "    raise ValueError(\"Missing Tastytrade credentials in keyring. Use keyring.set_password() to set them.\")\n",
    "\n",
    "# Create session\n",
    "session = Session(username, password)\n",
    "if not session:\n",
    "    raise ValueError(\"Failed to create Tastytrade session.\")\n",
    "\n",
    "# Get account\n",
    "account = Account.get_account(session, account_id) if account_id else Account.get_accounts(session)[0]"
   ]
  },
  {
   "cell_type": "code",
   "execution_count": 10,
   "metadata": {},
   "outputs": [
    {
     "data": {
      "text/plain": [
       "(Decimal('12143.177'), Decimal('12143.177'))"
      ]
     },
     "execution_count": 10,
     "metadata": {},
     "output_type": "execute_result"
    }
   ],
   "source": [
    "# Get account balances\n",
    "balances = account.get_balances(session)\n",
    "\n",
    "balances.derivative_buying_power, balances.equity_buying_power\n"
   ]
  },
  {
   "cell_type": "code",
   "execution_count": null,
   "metadata": {},
   "outputs": [],
   "source": []
  },
  {
   "cell_type": "markdown",
   "metadata": {},
   "source": []
  },
  {
   "cell_type": "markdown",
   "metadata": {},
   "source": []
  },
  {
   "cell_type": "code",
   "execution_count": null,
   "metadata": {},
   "outputs": [],
   "source": []
  }
 ],
 "metadata": {
  "kernelspec": {
   "display_name": ".venv",
   "language": "python",
   "name": "python3"
  },
  "language_info": {
   "codemirror_mode": {
    "name": "ipython",
    "version": 3
   },
   "file_extension": ".py",
   "mimetype": "text/x-python",
   "name": "python",
   "nbconvert_exporter": "python",
   "pygments_lexer": "ipython3",
   "version": "3.12.0"
  }
 },
 "nbformat": 4,
 "nbformat_minor": 2
}
